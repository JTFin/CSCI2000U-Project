{
 "cells": [
  {
   "cell_type": "markdown",
   "id": "49901e23",
   "metadata": {},
   "source": [
    "# CSCI2000U - Final Project\n"
   ]
  },
  {
   "cell_type": "markdown",
   "id": "5d41ba5f",
   "metadata": {},
   "source": [
    "## Introduction\n",
    "\n",
    "We chose this dataset pulled off of Kaggle because it pertains to movies and tv series, which everyone in the group is familiar with, and also has an interest in. Going through other datasets, we were often disappointed either by the lack of data, or the range of categories that are covered within the dataset. This dataset was able to do what we needed: have lots of data we can parse, and have lots of columns we can work with.\n",
    "\n",
    "We initially looked at using sets such a Utility Cut permits or chemical tracking data for the city of Toronto, but they either didn't have enough data to reasonably work with or weren't interesting to everyone in the group.\n",
    "\n",
    "Due to this, we decided to go with the IMDB's most popular films and series set.\n",
    "\n",
    "\n",
    "\n",
    "### These are the list of questions we wish to answer, and expand upon in our analysis:\n",
    "   - How does the amount of episodes in a tv show effect the ratings? For shows with a greater amount of episodes,\n",
    "        are the average rating worse, or better than shows with fewer?\n",
    "   - What are considered popular genres over the years? Do the ratings correlate? \n",
    "   - What impact does mature content make on the ratings of movies/shows the most?\n",
    "   - Do TV series or movies perform better? Based on the year of publish, does this make an impact or change the ratings?\n",
    "   - ADDITIONAL QUESTION GOES HERE\n",
    "\n",
    "### Members and contributions:\n",
    "\n",
    "Ashar Izhar ->\n",
    "\n",
    "Bridget Green ->\n",
    "\n",
    "Cameron Millar ->\n",
    "\n",
    "Julian Finley -> \n"
   ]
  },
  {
   "cell_type": "markdown",
   "id": "a41d8c7e",
   "metadata": {},
   "source": [
    "## Description of Data\n",
    "\n",
    "The IMDB's most popular film and series dataset is a list described by its name. In this dataset we can see a range of movies and films from the early 20th century to the current year, with information about the movie such as duration, genre, number of episodes, as well as user engagement information such as ratings and votes. All these datapoints can prove to be useful when diving into the analysis of said data.\n",
    "\n",
    "The data was collected by the dataset creator using web scraping directly from the IMDB website, and then compiled within a csv file for ease of use.\n",
    "\n",
    "Full credits go towards the compiler of the dataset; Mazen Ramadan, with a link to the set itself: https://www.kaggle.com/mazenramadan/imdb-most-popular-films-and-series\n",
    "\n",
    "Information from this dataset was retrieved from the original source: https://www.imdb.com/\n"
   ]
  },
  {
   "cell_type": "markdown",
   "id": "e440b39a",
   "metadata": {},
   "source": [
    "## Analysis of the data\n",
    "\n",
    "The data is organized in such a manner thatis easy to identify their use case and how they can be manipulated. Below is the list of columns within the dataset, and their description:\n",
    "\n",
    "    Name: The title of the film or tv series\n",
    "    Date: The date by year\n",
    "    Rate: The IMDB rating given for the title\n",
    "    Votes: The number of user votes which have contributed the the votes column\n",
    "    Genre: The genre(s) of the film or tv series. Multiple can be listed per title\n",
    "    Duration: The running length in minutes for the film or tv series per episode.\n",
    "    Type: The indicator on whether this is a film or tv series\n",
    "    Certificate: The audiance and/or age rating for the title(TV-Y, PG, PG-13, etc)\n",
    "    Episodes: If this is a tv series, the number of episodes present is recorded\n",
    "    Adult oriented content present(from mild, moderate, severe):\n",
    "        -Nudity\n",
    "        -Violence\n",
    "        -Profanity\n",
    "        -Alcohol\n",
    "        -Frightening\n",
    "      \n",
    "The data quality holds up, and any missing data present is due to it either being non-existant(i.e., no adult content being in an all ages movie), or no votes/ratings(no user engagement with the film or tv series).\n",
    "\n",
    "Data that would be prudent to double check for integrity and cleaning would be:\n",
    "    \n",
    "    -Completely empty columns\n",
    "    -Missing or non-numerical dates\n",
    "    -Removal of 'No Rates' when doing analysis on the ratings column \n",
    "    -Removal of 'No Votes' when doing analysis on the votes column\n",
    "    -If the genre column has more than one genre, make sure all are taken into account for their appropriate use cases.\n",
    "    -Removal of 'None' when doing analysis on the duration column\n",
    "    -When doing analysis on the type column, specify directly which will be worked with\n",
    "    -Remove all non-numerical from episode column if working with tv series\n",
    "    -When working will adult content, remove 'No Rate' entries"
   ]
  },
  {
   "cell_type": "markdown",
   "id": "8a79172f",
   "metadata": {},
   "source": [
    "## Exploratory Data Analysis"
   ]
  },
  {
   "cell_type": "code",
   "execution_count": 1,
   "id": "3aa32439",
   "metadata": {},
   "outputs": [],
   "source": [
    "#Given a csv file format, we must make it usable by pandas in order to make it a dataframe\n",
    "\n",
    "import csv\n",
    "import re\n",
    "from functools import reduce\n",
    "import numpy as np\n",
    "import pandas as pd\n",
    "import json\n",
    "pd.options.mode.chained_assignment = None  # default='warn'\n",
    "\n",
    "def get_data_csv():\n",
    "    collection = []\n",
    "    with open('imdb.csv', 'r') as f:\n",
    "        for line in csv.DictReader(f):\n",
    "            collection.append(line)\n",
    "        return collection\n",
    "        \n",
    "# the data    \n",
    "data = get_data_csv()\n",
    "df = pd.DataFrame(data)"
   ]
  },
  {
   "cell_type": "markdown",
   "id": "d48539ff",
   "metadata": {},
   "source": [
    "### Basic Analysis of the data"
   ]
  },
  {
   "cell_type": "code",
   "execution_count": 2,
   "id": "d0768b2c",
   "metadata": {},
   "outputs": [
    {
     "name": "stdout",
     "output_type": "stream",
     "text": [
      "Range in years: 1922 - 2023\n",
      "# of data records: 6178\n",
      "# of unique genres:  377\n",
      "# of unique movies:  4446\n",
      "# of unique shows:  1732\n",
      "# of unique ratings:  77\n",
      "Top 3 records: [\n",
      "    {\n",
      "        \"Name\": \"No Time to Die\",\n",
      "        \"Date\": \"2021\",\n",
      "        \"Rate\": \"7.6\",\n",
      "        \"Votes\": \"107,163\",\n",
      "        \"Genre\": \"Action, Adventure, Thriller\",\n",
      "        \"Duration\": \"163 \",\n",
      "        \"Type\": \"Film\",\n",
      "        \"Certificate\": \"PG-13\",\n",
      "        \"Episodes\": \"-\",\n",
      "        \"Nudity\": \"Mild\",\n",
      "        \"Violence\": \"Moderate\",\n",
      "        \"Profanity\": \"Mild\",\n",
      "        \"Alcohol\": \"Mild\",\n",
      "        \"Frightening\": \"Moderate\"\n",
      "    },\n",
      "    {\n",
      "        \"Name\": \"The Guilty\",\n",
      "        \"Date\": \"2021\",\n",
      "        \"Rate\": \"6.3\",\n",
      "        \"Votes\": \"64,375\",\n",
      "        \"Genre\": \"Crime, Drama, Thriller\",\n",
      "        \"Duration\": \"90 \",\n",
      "        \"Type\": \"Film\",\n",
      "        \"Certificate\": \"R\",\n",
      "        \"Episodes\": \"-\",\n",
      "        \"Nudity\": \"None\",\n",
      "        \"Violence\": \"None\",\n",
      "        \"Profanity\": \"Severe\",\n",
      "        \"Alcohol\": \"None\",\n",
      "        \"Frightening\": \"Moderate\"\n",
      "    },\n",
      "    {\n",
      "        \"Name\": \"The Many Saints of Newark\",\n",
      "        \"Date\": \"2021\",\n",
      "        \"Rate\": \"6.4\",\n",
      "        \"Votes\": \"27,145\",\n",
      "        \"Genre\": \"Crime, Drama\",\n",
      "        \"Duration\": \"120 \",\n",
      "        \"Type\": \"Film\",\n",
      "        \"Certificate\": \"R\",\n",
      "        \"Episodes\": \"-\",\n",
      "        \"Nudity\": \"Moderate\",\n",
      "        \"Violence\": \"Severe\",\n",
      "        \"Profanity\": \"Severe\",\n",
      "        \"Alcohol\": \"Moderate\",\n",
      "        \"Frightening\": \"Moderate\"\n",
      "    }\n",
      "] \n",
      "\n"
     ]
    }
   ],
   "source": [
    "#Date Range\n",
    "maxYear = max(data, key=lambda item:item['Date'])\n",
    "minYear = min(data, key=lambda item:item['Date'])\n",
    "print (\"Range in years:\", (minYear['Date']), \"-\", (maxYear['Date']))\n",
    "\n",
    "#Number of records\n",
    "print(\"# of data records:\", len (data))\n",
    "\n",
    "#Unique genres by length\n",
    "uniqueGenres = set(item['Genre'] for item in data)\n",
    "print(\"# of unique genres: \", len(uniqueGenres))\n",
    "\n",
    "#Unique titles by type\n",
    "uniqueFilms = list(filter(lambda item: 'Film' in item['Type'], data))\n",
    "uniqueSeries = list(filter(lambda item: 'Series' in item['Type'], data))\n",
    "print(\"# of unique movies: \", len(uniqueFilms))\n",
    "print(\"# of unique shows: \", len(uniqueSeries))\n",
    "\n",
    "#Unique ratings by length\n",
    "uniqueRatings = set(item['Rate'] for item in data)\n",
    "print(\"# of unique ratings: \", len(uniqueRatings))\n",
    "\n",
    "#Top 3 records\n",
    "print(\"Top 3 records:\", json.dumps(data[:3],indent=4),'\\n')"
   ]
  },
  {
   "cell_type": "markdown",
   "id": "e0211e88",
   "metadata": {},
   "source": [
    "This summary of data just give us a small bit of understanding about what to expect when working with the data, and the details of the certain ranges and parameters to help in future analysis calculations.\n",
    "\n",
    "We see that the range of films is from the early 20th century to a couple years into the future; which means there are surely some currently unwatchable programs on the list.\n",
    "Additionally as a movie database, it makes sense that there are more films present than tv series, at nearly double the count."
   ]
  },
  {
   "cell_type": "markdown",
   "id": "7295ebc2",
   "metadata": {},
   "source": [
    "### Answering our questions about the dataset"
   ]
  },
  {
   "cell_type": "markdown",
   "id": "4bf95462",
   "metadata": {},
   "source": [
    "#### How does the amount of episodes in a tv show effect the ratings? For shows with a greater amount of episodes, are the average rating worse, or better than shows with fewer?"
   ]
  },
  {
   "cell_type": "code",
   "execution_count": 8,
   "id": "3d9e21c4",
   "metadata": {
    "scrolled": false
   },
   "outputs": [
    {
     "data": {
      "text/html": [
       "<div>\n",
       "<style scoped>\n",
       "    .dataframe tbody tr th:only-of-type {\n",
       "        vertical-align: middle;\n",
       "    }\n",
       "\n",
       "    .dataframe tbody tr th {\n",
       "        vertical-align: top;\n",
       "    }\n",
       "\n",
       "    .dataframe thead th {\n",
       "        text-align: right;\n",
       "    }\n",
       "</style>\n",
       "<table border=\"1\" class=\"dataframe\">\n",
       "  <thead>\n",
       "    <tr style=\"text-align: right;\">\n",
       "      <th></th>\n",
       "      <th>Name</th>\n",
       "      <th>Date</th>\n",
       "      <th>Rate</th>\n",
       "      <th>Votes</th>\n",
       "      <th>Genre</th>\n",
       "      <th>Duration</th>\n",
       "      <th>Type</th>\n",
       "      <th>Certificate</th>\n",
       "      <th>Episodes</th>\n",
       "      <th>Nudity</th>\n",
       "      <th>Violence</th>\n",
       "      <th>Profanity</th>\n",
       "      <th>Alcohol</th>\n",
       "      <th>Frightening</th>\n",
       "    </tr>\n",
       "  </thead>\n",
       "  <tbody>\n",
       "    <tr>\n",
       "      <th>2075</th>\n",
       "      <td>Days of Our Lives</td>\n",
       "      <td>2021</td>\n",
       "      <td>5.1</td>\n",
       "      <td>6,506</td>\n",
       "      <td>Drama, Romance</td>\n",
       "      <td>60</td>\n",
       "      <td>Series</td>\n",
       "      <td>TV-14</td>\n",
       "      <td>14301</td>\n",
       "      <td>Moderate</td>\n",
       "      <td>Mild</td>\n",
       "      <td>Mild</td>\n",
       "      <td>Moderate</td>\n",
       "      <td>Mild</td>\n",
       "    </tr>\n",
       "    <tr>\n",
       "      <th>2514</th>\n",
       "      <td>The Young and the Restless</td>\n",
       "      <td>2021</td>\n",
       "      <td>5.1</td>\n",
       "      <td>5,978</td>\n",
       "      <td>Drama, Romance</td>\n",
       "      <td>60</td>\n",
       "      <td>Series</td>\n",
       "      <td>TV-14</td>\n",
       "      <td>12277</td>\n",
       "      <td>Moderate</td>\n",
       "      <td>Severe</td>\n",
       "      <td>Severe</td>\n",
       "      <td>Mild</td>\n",
       "      <td>Mild</td>\n",
       "    </tr>\n",
       "    <tr>\n",
       "      <th>2807</th>\n",
       "      <td>Coronation Street</td>\n",
       "      <td>2020</td>\n",
       "      <td>5.6</td>\n",
       "      <td>5,202</td>\n",
       "      <td>Drama, Romance</td>\n",
       "      <td>30</td>\n",
       "      <td>Series</td>\n",
       "      <td>TV-PG</td>\n",
       "      <td>10336</td>\n",
       "      <td>Mild</td>\n",
       "      <td>Moderate</td>\n",
       "      <td>Mild</td>\n",
       "      <td>Mild</td>\n",
       "      <td>Mild</td>\n",
       "    </tr>\n",
       "    <tr>\n",
       "      <th>4257</th>\n",
       "      <td>Neighbours</td>\n",
       "      <td>2014</td>\n",
       "      <td>5.4</td>\n",
       "      <td>5,020</td>\n",
       "      <td>Drama, Romance</td>\n",
       "      <td>22</td>\n",
       "      <td>Series</td>\n",
       "      <td>TV-G</td>\n",
       "      <td>9059</td>\n",
       "      <td>Mild</td>\n",
       "      <td>Mild</td>\n",
       "      <td>Mild</td>\n",
       "      <td>Mild</td>\n",
       "      <td>Mild</td>\n",
       "    </tr>\n",
       "    <tr>\n",
       "      <th>2951</th>\n",
       "      <td>The Bold and the Beautiful</td>\n",
       "      <td>2015</td>\n",
       "      <td>3.4</td>\n",
       "      <td>7,411</td>\n",
       "      <td>Drama, Romance</td>\n",
       "      <td>30</td>\n",
       "      <td>Series</td>\n",
       "      <td>TV-14</td>\n",
       "      <td>8365</td>\n",
       "      <td>Mild</td>\n",
       "      <td>Mild</td>\n",
       "      <td>Mild</td>\n",
       "      <td>Mild</td>\n",
       "      <td>None</td>\n",
       "    </tr>\n",
       "    <tr>\n",
       "      <th>...</th>\n",
       "      <td>...</td>\n",
       "      <td>...</td>\n",
       "      <td>...</td>\n",
       "      <td>...</td>\n",
       "      <td>...</td>\n",
       "      <td>...</td>\n",
       "      <td>...</td>\n",
       "      <td>...</td>\n",
       "      <td>...</td>\n",
       "      <td>...</td>\n",
       "      <td>...</td>\n",
       "      <td>...</td>\n",
       "      <td>...</td>\n",
       "      <td>...</td>\n",
       "    </tr>\n",
       "    <tr>\n",
       "      <th>2789</th>\n",
       "      <td>Crime Stories: India Detectives</td>\n",
       "      <td>2021</td>\n",
       "      <td>7.4</td>\n",
       "      <td>646</td>\n",
       "      <td>Documentary, Crime, Mystery</td>\n",
       "      <td>47</td>\n",
       "      <td>Series</td>\n",
       "      <td>TV-MA</td>\n",
       "      <td>4</td>\n",
       "      <td>No Rate</td>\n",
       "      <td>No Rate</td>\n",
       "      <td>No Rate</td>\n",
       "      <td>No Rate</td>\n",
       "      <td>No Rate</td>\n",
       "    </tr>\n",
       "    <tr>\n",
       "      <th>2555</th>\n",
       "      <td>LuLaRich</td>\n",
       "      <td>1956</td>\n",
       "      <td>7.8</td>\n",
       "      <td>2,381</td>\n",
       "      <td>Documentary</td>\n",
       "      <td>None</td>\n",
       "      <td>Series</td>\n",
       "      <td>TV-14</td>\n",
       "      <td>4</td>\n",
       "      <td>No Rate</td>\n",
       "      <td>No Rate</td>\n",
       "      <td>No Rate</td>\n",
       "      <td>No Rate</td>\n",
       "      <td>No Rate</td>\n",
       "    </tr>\n",
       "    <tr>\n",
       "      <th>1552</th>\n",
       "      <td>Time</td>\n",
       "      <td>1990</td>\n",
       "      <td>8.3</td>\n",
       "      <td>14,288</td>\n",
       "      <td>Crime, Drama</td>\n",
       "      <td>59</td>\n",
       "      <td>Series</td>\n",
       "      <td>None</td>\n",
       "      <td>3</td>\n",
       "      <td>No Rate</td>\n",
       "      <td>No Rate</td>\n",
       "      <td>No Rate</td>\n",
       "      <td>No Rate</td>\n",
       "      <td>No Rate</td>\n",
       "    </tr>\n",
       "    <tr>\n",
       "      <th>2120</th>\n",
       "      <td>The Problem with Jon Stewart</td>\n",
       "      <td>2014</td>\n",
       "      <td>7.6</td>\n",
       "      <td>443</td>\n",
       "      <td>Talk-Show</td>\n",
       "      <td>None</td>\n",
       "      <td>Series</td>\n",
       "      <td>TV-MA</td>\n",
       "      <td>3</td>\n",
       "      <td>None</td>\n",
       "      <td>Moderate</td>\n",
       "      <td>Severe</td>\n",
       "      <td>None</td>\n",
       "      <td>Severe</td>\n",
       "    </tr>\n",
       "    <tr>\n",
       "      <th>2455</th>\n",
       "      <td>Takt Op. Destiny</td>\n",
       "      <td>1985</td>\n",
       "      <td>8.5</td>\n",
       "      <td>291</td>\n",
       "      <td>Animation, Action, Adventure</td>\n",
       "      <td>24</td>\n",
       "      <td>Series</td>\n",
       "      <td>TV-14</td>\n",
       "      <td>3</td>\n",
       "      <td>No Rate</td>\n",
       "      <td>No Rate</td>\n",
       "      <td>No Rate</td>\n",
       "      <td>No Rate</td>\n",
       "      <td>No Rate</td>\n",
       "    </tr>\n",
       "  </tbody>\n",
       "</table>\n",
       "<p>1410 rows × 14 columns</p>\n",
       "</div>"
      ],
      "text/plain": [
       "                                 Name  Date  Rate   Votes  \\\n",
       "2075                Days of Our Lives  2021   5.1   6,506   \n",
       "2514       The Young and the Restless  2021   5.1   5,978   \n",
       "2807                Coronation Street  2020   5.6   5,202   \n",
       "4257                       Neighbours  2014   5.4   5,020   \n",
       "2951       The Bold and the Beautiful  2015   3.4   7,411   \n",
       "...                               ...   ...   ...     ...   \n",
       "2789  Crime Stories: India Detectives  2021   7.4     646   \n",
       "2555                         LuLaRich  1956   7.8   2,381   \n",
       "1552                             Time  1990   8.3  14,288   \n",
       "2120     The Problem with Jon Stewart  2014   7.6     443   \n",
       "2455                 Takt Op. Destiny  1985   8.5     291   \n",
       "\n",
       "                             Genre Duration    Type Certificate  Episodes  \\\n",
       "2075                Drama, Romance      60   Series       TV-14     14301   \n",
       "2514                Drama, Romance      60   Series       TV-14     12277   \n",
       "2807                Drama, Romance      30   Series       TV-PG     10336   \n",
       "4257                Drama, Romance      22   Series        TV-G      9059   \n",
       "2951                Drama, Romance      30   Series       TV-14      8365   \n",
       "...                            ...      ...     ...         ...       ...   \n",
       "2789   Documentary, Crime, Mystery      47   Series       TV-MA         4   \n",
       "2555                   Documentary     None  Series       TV-14         4   \n",
       "1552                  Crime, Drama      59   Series        None         3   \n",
       "2120                     Talk-Show     None  Series       TV-MA         3   \n",
       "2455  Animation, Action, Adventure      24   Series       TV-14         3   \n",
       "\n",
       "        Nudity  Violence Profanity   Alcohol Frightening  \n",
       "2075  Moderate      Mild      Mild  Moderate        Mild  \n",
       "2514  Moderate    Severe    Severe      Mild        Mild  \n",
       "2807      Mild  Moderate      Mild      Mild        Mild  \n",
       "4257      Mild      Mild      Mild      Mild        Mild  \n",
       "2951      Mild      Mild      Mild      Mild        None  \n",
       "...        ...       ...       ...       ...         ...  \n",
       "2789   No Rate   No Rate   No Rate   No Rate     No Rate  \n",
       "2555   No Rate   No Rate   No Rate   No Rate     No Rate  \n",
       "1552   No Rate   No Rate   No Rate   No Rate     No Rate  \n",
       "2120      None  Moderate    Severe      None      Severe  \n",
       "2455   No Rate   No Rate   No Rate   No Rate     No Rate  \n",
       "\n",
       "[1410 rows x 14 columns]"
      ]
     },
     "execution_count": 8,
     "metadata": {},
     "output_type": "execute_result"
    }
   ],
   "source": [
    "#First we drop the duplicates in the dataframe. After analysis, it was discovered there was over 1000 duplicate entries\n",
    "#in the dataset, which could have surely skewed results.\n",
    "df = df.drop_duplicates()\n",
    "\n",
    "#Since we are looking at the 'Rate' and 'Type' column specifically for this question, we should clean the column of \n",
    "#missing ratings, and then isolute for 'Series' only\n",
    "newDfSeries = df[df['Rate'] != 'No Rate']\n",
    "newDfSeries = newDfSeries.loc[newDfSeries['Type'] == 'Series']\n",
    "\n",
    "#For displaying various charts, it's a good idea to set the types of the entries to something readable by pd plot\n",
    "newDfSeries['Episodes'] = newDfSeries['Episodes'].astype(int)\n",
    "newDfSeries['Rate'] = newDfSeries['Rate'].astype(float)\n",
    "newDfSeries['Date'] = newDfSeries['Date'].astype(int)\n",
    "\n",
    "#Lastly sort by episode count, since this is the most important metric for analysis\n",
    "newDfSeries = newDfSeries.sort_values(by=['Episodes'], ascending=False)\n",
    "newDfSeries"
   ]
  },
  {
   "cell_type": "markdown",
   "id": "7e91e828",
   "metadata": {},
   "source": [
    "We can see from the head and tail of this dataframe, that the highest amount of episodes is well into the high thousands, and then have a low of 3 to 4 episodes. Just using basic reasoning we can assume the top bulk of shows will be low budget, long running series... while the bottom bulk will likely have been one-offs, or cancelled early into airing."
   ]
  },
  {
   "cell_type": "code",
   "execution_count": 19,
   "id": "44d8aa4d",
   "metadata": {},
   "outputs": [
    {
     "name": "stdout",
     "output_type": "stream",
     "text": [
      "Amount of records in each of the top & bottom 20%: 282\n",
      "Top 20%: 7.461347517730496\n",
      "Bottom 20%: 7.104255319148937\n",
      "Overall average rating:  7.549148936170212\n"
     ]
    }
   ],
   "source": [
    "#In search of just some raw data analysis, we can find the average score of the top and bottom percentage groups. \n",
    "#In this case, we will take the top and bottom 20%, and see how the averages differ.\n",
    "perc = 20\n",
    "print(\"Amount of records in each of the top & bottom \", perc, \"%: \", int(len(newDfSeries)*(perc/100)),  sep='')\n",
    "\n",
    "#We are able to calculate the top and bottom percentage average by taking the length of the series dataframe\n",
    "topPerc = newDfSeries.head(int(len(newDfSeries)*(perc/100)))\n",
    "botPerc = newDfSeries.tail(int(len(newDfSeries)*(perc/100)))\n",
    "print(\"Top \", perc, \"%: \", topPerc['Rate'].astype(float).mean(), sep='')\n",
    "print(\"Bottom \", perc, \"%: \", botPerc['Rate'].astype(float).mean(), sep='')\n",
    "print(\"Overall average rating: \", newDfSeries['Rate'].mean())"
   ]
  },
  {
   "cell_type": "markdown",
   "id": "5c7f0ef6",
   "metadata": {},
   "source": [
    "We can see that the top 20% of series by episode count actually have an on-average higher rating than the bottom 20%. This is an interesting result, and count be for various reasons. To speculate, series that go for a long time usually only do so when proped up by fans and success factors, which would result in a higher score. On the other end, if a series is not successful or popular, it is likely to have fewer good ratings, and be cancelled early in its run.\n",
    "\n",
    "While these speculations make sense, they do not necessarily mean they're true, and they certain do not line up with the top and bottom 5 entries... though those could also be an anomoly as well.\n",
    "\n",
    "However, we can also see that the top and bottom 20% are outliers in their own right... as the overall average for all series is greater than both. "
   ]
  },
  {
   "cell_type": "code",
   "execution_count": 5,
   "id": "24713553",
   "metadata": {},
   "outputs": [
    {
     "data": {
      "text/plain": [
       "<AxesSubplot:xlabel='Episodes', ylabel='Ratings'>"
      ]
     },
     "execution_count": 5,
     "metadata": {},
     "output_type": "execute_result"
    },
    {
     "data": {
      "image/png": "[encoded data removed]",
      "text/plain": [
       "<Figure size 432x288 with 1 Axes>"
      ]
     },
     "metadata": {
      "needs_background": "light"
     },
     "output_type": "display_data"
    }
   ],
   "source": [
    "#Lets graph the results of the dataframe.\n",
    "newDfSeries.plot(xlabel='Episodes', ylabel='Ratings', x='Episodes',y='Rate', kind='scatter', logx=True)"
   ]
  },
  {
   "cell_type": "markdown",
   "id": "a360c1b3",
   "metadata": {},
   "source": [
    "Since there are a lot of records, a scatter graph felt appropriate for this question. We can see that a vast majority of series have rating ranging from ~6.5 to ~8.5, which places the afformentioned overall average directly in the centre of this observation. While there are plenty of dots outside the cluster, the graph still may be hard to parse, due to the extreme amounts of episodes some series may have."
   ]
  },
  {
   "cell_type": "code",
   "execution_count": 6,
   "id": "c36e4ad1",
   "metadata": {},
   "outputs": [
    {
     "data": {
      "text/plain": [
       "<AxesSubplot:xlabel='Episodes', ylabel='Ratings'>"
      ]
     },
     "execution_count": 6,
     "metadata": {},
     "output_type": "execute_result"
    },
    {
     "data": {
      "image/png": "[encoded data removed]",
      "text/plain": [
       "<Figure size 432x288 with 1 Axes>"
      ]
     },
     "metadata": {
      "needs_background": "light"
     },
     "output_type": "display_data"
    }
   ],
   "source": [
    "#To the above point, it may be appropriate to see how the average series compares to one another. Due to most series having\n",
    "#an upper limit of around 200 episodes(10 seasons * 20 episodes per season), we can see how the graph looks like with these\n",
    "#new limitations\n",
    "newDfSeries2 = newDfSeries[~(newDfSeries['Episodes'] >= 200)]\n",
    "newDfSeries2.plot(xlabel='Episodes', ylabel='Ratings', x='Episodes', y='Rate', kind='scatter')"
   ]
  },
  {
   "cell_type": "markdown",
   "id": "bc7da12c",
   "metadata": {},
   "source": [
    "With an upper bound defined, the distribution is much easier to identify. A lot of series are still clustered together, but we can clearly see a downwards trend of ratings and the episode count gets greater and greater for the series. The slope is fairly minor, but noticable.\n",
    "\n",
    "To answer the question: The amount of total episodes does infact appear to affect the ratings in the long run. Once a show is able to establish itself after about 20-25 episodes,"
   ]
  },
  {
   "cell_type": "markdown",
   "id": "e0c27372",
   "metadata": {},
   "source": []
  },
  {
   "cell_type": "markdown",
   "id": "4b436da2",
   "metadata": {},
   "source": [
    "#### What are considered popular genres over the years? Do the ratings correlate?"
   ]
  },
  {
   "cell_type": "code",
   "execution_count": null,
   "id": "dec38542",
   "metadata": {},
   "outputs": [],
   "source": []
  },
  {
   "cell_type": "markdown",
   "id": "e961ad1c",
   "metadata": {},
   "source": [
    "#### What impact does mature content make on the ratings of movies/shows the most?"
   ]
  },
  {
   "cell_type": "code",
   "execution_count": null,
   "id": "b8238780",
   "metadata": {},
   "outputs": [],
   "source": []
  },
  {
   "cell_type": "markdown",
   "id": "a4d4f3ca",
   "metadata": {},
   "source": [
    "#### Do TV series or movies perform better? Based on the year of publish, does this make an impact or change the ratings?"
   ]
  },
  {
   "cell_type": "code",
   "execution_count": null,
   "id": "e2199664",
   "metadata": {},
   "outputs": [],
   "source": []
  },
  {
   "cell_type": "markdown",
   "id": "41944031",
   "metadata": {},
   "source": [
    "#### ADDITIONAL QUESTION GOES HERE"
   ]
  },
  {
   "cell_type": "code",
   "execution_count": null,
   "id": "9543dcce",
   "metadata": {},
   "outputs": [],
   "source": []
  },
  {
   "cell_type": "markdown",
   "id": "355925a4",
   "metadata": {},
   "source": [
    "## Potential Data Science"
   ]
  },
  {
   "cell_type": "markdown",
   "id": "8c40a961",
   "metadata": {},
   "source": [
    "## Conclusion"
   ]
  }
 ],
 "metadata": {
  "kernelspec": {
   "display_name": "Python 3 (ipykernel)",
   "language": "python",
   "name": "python3"
  },
  "language_info": {
   "codemirror_mode": {
    "name": "ipython",
    "version": 3
   },
   "file_extension": ".py",
   "mimetype": "text/x-python",
   "name": "python",
   "nbconvert_exporter": "python",
   "pygments_lexer": "ipython3",
   "version": "3.8.12"
  }
 },
 "nbformat": 4,
 "nbformat_minor": 5
}

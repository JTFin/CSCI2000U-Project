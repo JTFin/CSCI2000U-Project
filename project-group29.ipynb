{
 "cells": [
  {
   "cell_type": "markdown",
   "id": "49901e23",
   "metadata": {},
   "source": [
    "# CSCI2000U - Final Project\n"
   ]
  },
  {
   "cell_type": "markdown",
   "id": "5d41ba5f",
   "metadata": {},
   "source": [
    "## Introduction\n",
    "\n",
    "We chose this dataset pulled off of Kaggle because it pertains to movies and tv series, which everyone in the group is familiar with, and also has an interest in. Going through other datasets, we were often disappointed either by the lack of data, or the range of categories that are covered within the dataset. This dataset was able to do what we needed: have lots of data we can parse, and have lots of columns we can work with.\n",
    "\n",
    "We initially looked at using sets such a Utility Cut permits or chemical tracking data for the city of Toronto, but they either didn't have enough data to reasonably work with or weren't interesting to everyone in the group.\n",
    "\n",
    "Due to this, we decided to go with the IMDB's most popular films and series set.\n",
    "\n",
    "\n",
    "\n",
    "### These are the list of questions we wish to answer, and expand upon in our analysis:\n",
    "   - How does the amount of episodes in a tv show effect the ratings? For shows with a greater amount of episodes,\n",
    "        are the average rating worse, or better than shows with fewer?\n",
    "   - What are considered popular genres over the years? Do the ratings correlate? \n",
    "   - What impact does mature content make on the ratings of movies/shows the most?\n",
    "   - Do TV series or movies perform better? Based on the year of publish, does this make an impact or change the ratings?\n",
    "   - ADDITIONAL QUESTION GOES HERE\n",
    "\n",
    "### Members and contributions:\n",
    "\n",
    "Ashar Izhar ->\n",
    "\n",
    "Bridget Green ->\n",
    "\n",
    "Cameron Millar ->\n",
    "\n",
    "Julian Finley -> \n"
   ]
  },
  {
   "cell_type": "markdown",
   "id": "a41d8c7e",
   "metadata": {},
   "source": [
    "## Description of Data\n",
    "\n",
    "The IMDB's most popular film and series dataset is a list described by its name. In this dataset we can see a range of movies and films from the early 20th century to the current year, with information about the movie such as duration, genre, number of episodes, as well as user engagement information such as ratings and votes. All these datapoints can prove to be useful when diving into the analysis of said data.\n",
    "\n",
    "The data was collected by the dataset creator using web scraping directly from the IMDB website, and then compiled within a csv file for ease of use.\n",
    "\n",
    "Full credits go towards the compiler of the dataset; Mazen Ramadan, with a link to the set itself: https://www.kaggle.com/mazenramadan/imdb-most-popular-films-and-series\n",
    "\n",
    "Information from this dataset was retrieved from the original source: https://www.imdb.com/\n"
   ]
  },
  {
   "cell_type": "markdown",
   "id": "e440b39a",
   "metadata": {},
   "source": [
    "## Analysis of the data\n",
    "\n",
    "The data is organized in such a manner thatis easy to identify their use case and how they can be manipulated. Below is the list of columns within the dataset, and their description:\n",
    "\n",
    "    Name: The title of the film or tv series\n",
    "    Date: The date by year\n",
    "    Rate: The IMDB rating given for the title\n",
    "    Votes: The number of user votes which have contributed the the votes column\n",
    "    Genre: The genre(s) of the film or tv series. Multiple can be listed per title\n",
    "    Duration: The running length in minutes for the film or tv series per episode.\n",
    "    Type: The indicator on whether this is a film or tv series\n",
    "    Certificate: The audiance and/or age rating for the title(TV-Y, PG, PG-13, etc)\n",
    "    Episodes: If this is a tv series, the number of episodes present is recorded\n",
    "    Adult oriented content present(from mild, moderate, severe):\n",
    "        -Nudity\n",
    "        -Violence\n",
    "        -Profanity\n",
    "        -Alcohol\n",
    "        -Frightening\n",
    "      \n",
    "The data quality holds up, and any missing data present is due to it either being non-existant(i.e., no adult content being in an all ages movie), or no votes/ratings(no user engagement with the film or tv series).\n",
    "\n",
    "Data that would be prudent to double check for integrity and cleaning would be:\n",
    "    \n",
    "    -Completely empty columns\n",
    "    -Missing or non-numerical dates\n",
    "    -Removal of 'No Rates' when doing analysis on the ratings column \n",
    "    -Removal of 'No Votes' when doing analysis on the votes column\n",
    "    -If the genre column has more than one genre, make sure all are taken into account for their appropriate use cases.\n",
    "    -Removal of 'None' when doing analysis on the duration column\n",
    "    -When doing analysis on the type column, specify directly which will be worked with\n",
    "    -Remove all non-numerical from episode column if working with tv series\n",
    "    -When working will adult content, remove 'No Rate' entries"
   ]
  },
  {
   "cell_type": "markdown",
   "id": "8a79172f",
   "metadata": {},
   "source": [
    "## Exploratory Data Analysis"
   ]
  },
  {
   "cell_type": "markdown",
   "id": "355925a4",
   "metadata": {},
   "source": [
    "## Potential Data Science"
   ]
  },
  {
   "cell_type": "markdown",
   "id": "8c40a961",
   "metadata": {},
   "source": [
    "## Conclusion"
   ]
  }
 ],
 "metadata": {
  "kernelspec": {
   "display_name": "Python 3 (ipykernel)",
   "language": "python",
   "name": "python3"
  },
  "language_info": {
   "codemirror_mode": {
    "name": "ipython",
    "version": 3
   },
   "file_extension": ".py",
   "mimetype": "text/x-python",
   "name": "python",
   "nbconvert_exporter": "python",
   "pygments_lexer": "ipython3",
   "version": "3.8.12"
  }
 },
 "nbformat": 4,
 "nbformat_minor": 5
}
